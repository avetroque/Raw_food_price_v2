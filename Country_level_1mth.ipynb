{
 "cells": [
  {
   "cell_type": "code",
   "execution_count": 1,
   "metadata": {},
   "outputs": [],
   "source": [
    "import numpy as np\n",
    "import pandas as pd\n",
    "\n",
    "URL_DATA = 'https://storage.googleapis.com/dosm-public-pricecatcher/lookup_premise.parquet'\n",
    "df_premise_code = pd.read_parquet(URL_DATA)\n",
    "if 'date' in df_premise_code.columns: df_premise_code['date'] = pd.to_datetime(df_premise_code['date'])\n",
    "\n",
    "\n",
    "URL_DATA = 'https://storage.googleapis.com/dosm-public-pricecatcher/lookup_item.parquet'\n",
    "df_item_code = pd.read_parquet(URL_DATA)\n",
    "if 'date' in df_item_code.columns: df_item_code['date'] = pd.to_datetime(df_item_code['date'])\n"
   ]
  },
  {
   "cell_type": "code",
   "execution_count": 2,
   "metadata": {},
   "outputs": [
    {
     "data": {
      "text/html": [
       "<div>\n",
       "<style scoped>\n",
       "    .dataframe tbody tr th:only-of-type {\n",
       "        vertical-align: middle;\n",
       "    }\n",
       "\n",
       "    .dataframe tbody tr th {\n",
       "        vertical-align: top;\n",
       "    }\n",
       "\n",
       "    .dataframe thead th {\n",
       "        text-align: right;\n",
       "    }\n",
       "</style>\n",
       "<table border=\"1\" class=\"dataframe\">\n",
       "  <thead>\n",
       "    <tr style=\"text-align: right;\">\n",
       "      <th></th>\n",
       "      <th>date</th>\n",
       "      <th>premise_code</th>\n",
       "      <th>item_code</th>\n",
       "      <th>price</th>\n",
       "    </tr>\n",
       "  </thead>\n",
       "  <tbody>\n",
       "    <tr>\n",
       "      <th>0</th>\n",
       "      <td>2023-07-01</td>\n",
       "      <td>2</td>\n",
       "      <td>1</td>\n",
       "      <td>9.4</td>\n",
       "    </tr>\n",
       "    <tr>\n",
       "      <th>1</th>\n",
       "      <td>2023-07-01</td>\n",
       "      <td>2</td>\n",
       "      <td>9</td>\n",
       "      <td>36.0</td>\n",
       "    </tr>\n",
       "    <tr>\n",
       "      <th>2</th>\n",
       "      <td>2023-07-01</td>\n",
       "      <td>2</td>\n",
       "      <td>16</td>\n",
       "      <td>6.0</td>\n",
       "    </tr>\n",
       "    <tr>\n",
       "      <th>3</th>\n",
       "      <td>2023-07-01</td>\n",
       "      <td>2</td>\n",
       "      <td>18</td>\n",
       "      <td>6.0</td>\n",
       "    </tr>\n",
       "    <tr>\n",
       "      <th>4</th>\n",
       "      <td>2023-07-01</td>\n",
       "      <td>2</td>\n",
       "      <td>19</td>\n",
       "      <td>6.0</td>\n",
       "    </tr>\n",
       "  </tbody>\n",
       "</table>\n",
       "</div>"
      ],
      "text/plain": [
       "        date  premise_code  item_code  price\n",
       "0 2023-07-01             2          1    9.4\n",
       "1 2023-07-01             2          9   36.0\n",
       "2 2023-07-01             2         16    6.0\n",
       "3 2023-07-01             2         18    6.0\n",
       "4 2023-07-01             2         19    6.0"
      ]
     },
     "execution_count": 2,
     "metadata": {},
     "output_type": "execute_result"
    }
   ],
   "source": [
    "import numpy as np\n",
    "import pandas as pd\n",
    "\n",
    "#!pip install pandas fastparquet\n",
    "\n",
    "URL_DATA = 'https://storage.googleapis.com/dosm-public-pricecatcher/pricecatcher_2023-07.parquet'\n",
    "\n",
    "df = pd.read_parquet(URL_DATA)\n",
    "if 'date' in df.columns: df['date'] = pd.to_datetime(df['date'])\n",
    "df.head()\n"
   ]
  },
  {
   "cell_type": "code",
   "execution_count": 3,
   "metadata": {},
   "outputs": [],
   "source": [
    "def merge_data(df):\n",
    "\n",
    "    tempdf = df.copy() #must make a copy . doing tempdf=df7 is just reassigning\n",
    "\n",
    "    print(tempdf.head())\n",
    "    #\n",
    "    p =tempdf.pop('premise_code').map(df_premise_code.set_index('premise_code')[\"premise_type\"])\n",
    "    p.name = 'premise_type'\n",
    "\n",
    "\n",
    "    tempdf = df.copy() #must make a copy . doing tempdf=df7 is just reassigning\n",
    "    q =tempdf.pop('premise_code').map(df_premise_code.set_index('premise_code')[\"premise\"])\n",
    "    q.name = 'premise'\n",
    "\n",
    "    tempdf = df.copy() #must make a copy . doing tempdf=df7 is just reassigning\n",
    "    s =tempdf.pop('premise_code').map(df_premise_code.set_index('premise_code')[\"state\"])\n",
    "    s.name = 'state'\n",
    "\n",
    "    tempdf = df.copy() #must make a copy . doing tempdf=df7 is just reassigning\n",
    "    t = tempdf.pop('premise_code').map(df_premise_code.set_index('premise_code')['district'])\n",
    "    t.name = \"district\"\n",
    "\n",
    "    tempdf = df.copy() #must make a copy . doing tempdf=df7 is just reassigning\n",
    "    u = tempdf.pop('item_code').map(df_item_code.set_index('item_code')['item'])\n",
    "    u.name = \"item\"\n",
    "\n",
    "    tempdf = df.copy() #must make a copy . doing tempdf=df7 is just reassigning\n",
    "    v = tempdf.pop('item_code').map(df_item_code.set_index('item_code')['unit'])\n",
    "    v.name = \"unit\"\n",
    "\n",
    "    tempdf = df.copy() #must make a copy . doing tempdf=df7 is just reassigning\n",
    "    w = tempdf.pop('item_code').map(df_item_code.set_index('item_code')['item_category'])\n",
    "    w.name = \"item_category\"\n",
    "\n",
    "    #print('S:\\n',s) \n",
    "    #print('T:\\n',t)\n",
    "\n",
    "    df_master = pd.concat([df,p,q,s,t,u,v,w],axis=1)\n",
    "    return df_master    "
   ]
  },
  {
   "cell_type": "code",
   "execution_count": 4,
   "metadata": {},
   "outputs": [
    {
     "name": "stdout",
     "output_type": "stream",
     "text": [
      "        date  premise_code  item_code  price\n",
      "0 2023-07-01             2          1    9.4\n",
      "1 2023-07-01             2          9   36.0\n",
      "2 2023-07-01             2         16    6.0\n",
      "3 2023-07-01             2         18    6.0\n",
      "4 2023-07-01             2         19    6.0\n"
     ]
    },
    {
     "data": {
      "text/html": [
       "<div>\n",
       "<style scoped>\n",
       "    .dataframe tbody tr th:only-of-type {\n",
       "        vertical-align: middle;\n",
       "    }\n",
       "\n",
       "    .dataframe tbody tr th {\n",
       "        vertical-align: top;\n",
       "    }\n",
       "\n",
       "    .dataframe thead th {\n",
       "        text-align: right;\n",
       "    }\n",
       "</style>\n",
       "<table border=\"1\" class=\"dataframe\">\n",
       "  <thead>\n",
       "    <tr style=\"text-align: right;\">\n",
       "      <th></th>\n",
       "      <th>date</th>\n",
       "      <th>premise_code</th>\n",
       "      <th>item_code</th>\n",
       "      <th>price</th>\n",
       "      <th>premise_type</th>\n",
       "      <th>premise</th>\n",
       "      <th>state</th>\n",
       "      <th>district</th>\n",
       "      <th>item</th>\n",
       "      <th>unit</th>\n",
       "      <th>item_category</th>\n",
       "    </tr>\n",
       "  </thead>\n",
       "  <tbody>\n",
       "    <tr>\n",
       "      <th>0</th>\n",
       "      <td>2023-07-01</td>\n",
       "      <td>2</td>\n",
       "      <td>1</td>\n",
       "      <td>9.4</td>\n",
       "      <td>Pasar Basah</td>\n",
       "      <td>PASAR BESAR IPOH</td>\n",
       "      <td>Perak</td>\n",
       "      <td>Kinta</td>\n",
       "      <td>AYAM BERSIH - STANDARD</td>\n",
       "      <td>1kg</td>\n",
       "      <td>AYAM</td>\n",
       "    </tr>\n",
       "    <tr>\n",
       "      <th>1</th>\n",
       "      <td>2023-07-01</td>\n",
       "      <td>2</td>\n",
       "      <td>9</td>\n",
       "      <td>36.0</td>\n",
       "      <td>Pasar Basah</td>\n",
       "      <td>PASAR BESAR IPOH</td>\n",
       "      <td>Perak</td>\n",
       "      <td>Kinta</td>\n",
       "      <td>DAGING KAMBING BEBIRI IMPORT BERTULANG (MUTTON...</td>\n",
       "      <td>1kg</td>\n",
       "      <td>DAGING</td>\n",
       "    </tr>\n",
       "    <tr>\n",
       "      <th>2</th>\n",
       "      <td>2023-07-01</td>\n",
       "      <td>2</td>\n",
       "      <td>16</td>\n",
       "      <td>6.0</td>\n",
       "      <td>Pasar Basah</td>\n",
       "      <td>PASAR BESAR IPOH</td>\n",
       "      <td>Perak</td>\n",
       "      <td>Kinta</td>\n",
       "      <td>BETIK BIASA</td>\n",
       "      <td>1kg</td>\n",
       "      <td>BUAH-BUAHAN</td>\n",
       "    </tr>\n",
       "    <tr>\n",
       "      <th>3</th>\n",
       "      <td>2023-07-01</td>\n",
       "      <td>2</td>\n",
       "      <td>18</td>\n",
       "      <td>6.0</td>\n",
       "      <td>Pasar Basah</td>\n",
       "      <td>PASAR BESAR IPOH</td>\n",
       "      <td>Perak</td>\n",
       "      <td>Kinta</td>\n",
       "      <td>PISANG BERANGAN</td>\n",
       "      <td>1kg</td>\n",
       "      <td>BUAH-BUAHAN</td>\n",
       "    </tr>\n",
       "    <tr>\n",
       "      <th>4</th>\n",
       "      <td>2023-07-01</td>\n",
       "      <td>2</td>\n",
       "      <td>19</td>\n",
       "      <td>6.0</td>\n",
       "      <td>Pasar Basah</td>\n",
       "      <td>PASAR BESAR IPOH</td>\n",
       "      <td>Perak</td>\n",
       "      <td>Kinta</td>\n",
       "      <td>PISANG EMAS</td>\n",
       "      <td>1kg</td>\n",
       "      <td>BUAH-BUAHAN</td>\n",
       "    </tr>\n",
       "  </tbody>\n",
       "</table>\n",
       "</div>"
      ],
      "text/plain": [
       "        date  premise_code  item_code  price  premise_type           premise  \\\n",
       "0 2023-07-01             2          1    9.4  Pasar Basah   PASAR BESAR IPOH   \n",
       "1 2023-07-01             2          9   36.0  Pasar Basah   PASAR BESAR IPOH   \n",
       "2 2023-07-01             2         16    6.0  Pasar Basah   PASAR BESAR IPOH   \n",
       "3 2023-07-01             2         18    6.0  Pasar Basah   PASAR BESAR IPOH   \n",
       "4 2023-07-01             2         19    6.0  Pasar Basah   PASAR BESAR IPOH   \n",
       "\n",
       "   state district                                               item unit  \\\n",
       "0  Perak    Kinta                             AYAM BERSIH - STANDARD  1kg   \n",
       "1  Perak    Kinta  DAGING KAMBING BEBIRI IMPORT BERTULANG (MUTTON...  1kg   \n",
       "2  Perak    Kinta                                        BETIK BIASA  1kg   \n",
       "3  Perak    Kinta                                    PISANG BERANGAN  1kg   \n",
       "4  Perak    Kinta                                        PISANG EMAS  1kg   \n",
       "\n",
       "  item_category  \n",
       "0          AYAM  \n",
       "1        DAGING  \n",
       "2   BUAH-BUAHAN  \n",
       "3   BUAH-BUAHAN  \n",
       "4   BUAH-BUAHAN  "
      ]
     },
     "execution_count": 4,
     "metadata": {},
     "output_type": "execute_result"
    }
   ],
   "source": [
    "\n",
    "df_master = merge_data(df)    \n",
    "#df_master.sample(frac=1)\n",
    "df_master.head()"
   ]
  },
  {
   "cell_type": "markdown",
   "metadata": {},
   "source": [
    "Crosscheck with DOSM myprice dashboard. The average price by stare for Minyak Masak Tulin Alif 5kg tally for the month of July 2023. But other items such as ayam does not tally. Why?\n",
    "Further verifications by trying to download data from myprice dashboard failed."
   ]
  },
  {
   "cell_type": "code",
   "execution_count": 5,
   "metadata": {},
   "outputs": [
    {
     "data": {
      "text/html": [
       "<div>\n",
       "<style scoped>\n",
       "    .dataframe tbody tr th:only-of-type {\n",
       "        vertical-align: middle;\n",
       "    }\n",
       "\n",
       "    .dataframe tbody tr th {\n",
       "        vertical-align: top;\n",
       "    }\n",
       "\n",
       "    .dataframe thead th {\n",
       "        text-align: right;\n",
       "    }\n",
       "</style>\n",
       "<table border=\"1\" class=\"dataframe\">\n",
       "  <thead>\n",
       "    <tr style=\"text-align: right;\">\n",
       "      <th></th>\n",
       "      <th></th>\n",
       "      <th></th>\n",
       "      <th></th>\n",
       "      <th>max</th>\n",
       "      <th>min</th>\n",
       "      <th>mean</th>\n",
       "    </tr>\n",
       "    <tr>\n",
       "      <th>item_code</th>\n",
       "      <th>item</th>\n",
       "      <th>unit</th>\n",
       "      <th>state</th>\n",
       "      <th></th>\n",
       "      <th></th>\n",
       "      <th></th>\n",
       "    </tr>\n",
       "  </thead>\n",
       "  <tbody>\n",
       "    <tr>\n",
       "      <th rowspan=\"16\" valign=\"top\">1</th>\n",
       "      <th rowspan=\"16\" valign=\"top\">AYAM BERSIH - STANDARD</th>\n",
       "      <th rowspan=\"16\" valign=\"top\">1kg</th>\n",
       "      <th>Johor</th>\n",
       "      <td>9.4</td>\n",
       "      <td>6.39</td>\n",
       "      <td>8.917112</td>\n",
       "    </tr>\n",
       "    <tr>\n",
       "      <th>Kedah</th>\n",
       "      <td>9.9</td>\n",
       "      <td>4.99</td>\n",
       "      <td>9.086602</td>\n",
       "    </tr>\n",
       "    <tr>\n",
       "      <th>Kelantan</th>\n",
       "      <td>9.4</td>\n",
       "      <td>6.39</td>\n",
       "      <td>9.004056</td>\n",
       "    </tr>\n",
       "    <tr>\n",
       "      <th>Melaka</th>\n",
       "      <td>9.4</td>\n",
       "      <td>6.30</td>\n",
       "      <td>8.904078</td>\n",
       "    </tr>\n",
       "    <tr>\n",
       "      <th>Negeri Sembilan</th>\n",
       "      <td>9.4</td>\n",
       "      <td>6.90</td>\n",
       "      <td>8.941674</td>\n",
       "    </tr>\n",
       "    <tr>\n",
       "      <th>Pahang</th>\n",
       "      <td>9.4</td>\n",
       "      <td>6.99</td>\n",
       "      <td>9.004149</td>\n",
       "    </tr>\n",
       "    <tr>\n",
       "      <th>Perak</th>\n",
       "      <td>9.9</td>\n",
       "      <td>6.29</td>\n",
       "      <td>8.997840</td>\n",
       "    </tr>\n",
       "    <tr>\n",
       "      <th>Perlis</th>\n",
       "      <td>9.4</td>\n",
       "      <td>6.99</td>\n",
       "      <td>8.923564</td>\n",
       "    </tr>\n",
       "    <tr>\n",
       "      <th>Pulau Pinang</th>\n",
       "      <td>9.4</td>\n",
       "      <td>6.69</td>\n",
       "      <td>9.110068</td>\n",
       "    </tr>\n",
       "    <tr>\n",
       "      <th>Sabah</th>\n",
       "      <td>11.3</td>\n",
       "      <td>11.29</td>\n",
       "      <td>11.298160</td>\n",
       "    </tr>\n",
       "    <tr>\n",
       "      <th>Sarawak</th>\n",
       "      <td>11.4</td>\n",
       "      <td>9.79</td>\n",
       "      <td>10.278951</td>\n",
       "    </tr>\n",
       "    <tr>\n",
       "      <th>Selangor</th>\n",
       "      <td>9.4</td>\n",
       "      <td>6.79</td>\n",
       "      <td>9.011825</td>\n",
       "    </tr>\n",
       "    <tr>\n",
       "      <th>Terengganu</th>\n",
       "      <td>9.4</td>\n",
       "      <td>6.90</td>\n",
       "      <td>9.138045</td>\n",
       "    </tr>\n",
       "    <tr>\n",
       "      <th>W.P. Kuala Lumpur</th>\n",
       "      <td>9.4</td>\n",
       "      <td>6.90</td>\n",
       "      <td>9.012552</td>\n",
       "    </tr>\n",
       "    <tr>\n",
       "      <th>W.P. Labuan</th>\n",
       "      <td>11.3</td>\n",
       "      <td>11.30</td>\n",
       "      <td>11.300000</td>\n",
       "    </tr>\n",
       "    <tr>\n",
       "      <th>W.P. Putrajaya</th>\n",
       "      <td>9.4</td>\n",
       "      <td>6.99</td>\n",
       "      <td>8.915372</td>\n",
       "    </tr>\n",
       "  </tbody>\n",
       "</table>\n",
       "</div>"
      ],
      "text/plain": [
       "                                                          max    min  \\\n",
       "item_code item                   unit state                            \n",
       "1         AYAM BERSIH - STANDARD 1kg  Johor               9.4   6.39   \n",
       "                                      Kedah               9.9   4.99   \n",
       "                                      Kelantan            9.4   6.39   \n",
       "                                      Melaka              9.4   6.30   \n",
       "                                      Negeri Sembilan     9.4   6.90   \n",
       "                                      Pahang              9.4   6.99   \n",
       "                                      Perak               9.9   6.29   \n",
       "                                      Perlis              9.4   6.99   \n",
       "                                      Pulau Pinang        9.4   6.69   \n",
       "                                      Sabah              11.3  11.29   \n",
       "                                      Sarawak            11.4   9.79   \n",
       "                                      Selangor            9.4   6.79   \n",
       "                                      Terengganu          9.4   6.90   \n",
       "                                      W.P. Kuala Lumpur   9.4   6.90   \n",
       "                                      W.P. Labuan        11.3  11.30   \n",
       "                                      W.P. Putrajaya      9.4   6.99   \n",
       "\n",
       "                                                              mean  \n",
       "item_code item                   unit state                         \n",
       "1         AYAM BERSIH - STANDARD 1kg  Johor               8.917112  \n",
       "                                      Kedah               9.086602  \n",
       "                                      Kelantan            9.004056  \n",
       "                                      Melaka              8.904078  \n",
       "                                      Negeri Sembilan     8.941674  \n",
       "                                      Pahang              9.004149  \n",
       "                                      Perak               8.997840  \n",
       "                                      Perlis              8.923564  \n",
       "                                      Pulau Pinang        9.110068  \n",
       "                                      Sabah              11.298160  \n",
       "                                      Sarawak            10.278951  \n",
       "                                      Selangor            9.011825  \n",
       "                                      Terengganu          9.138045  \n",
       "                                      W.P. Kuala Lumpur   9.012552  \n",
       "                                      W.P. Labuan        11.300000  \n",
       "                                      W.P. Putrajaya      8.915372  "
      ]
     },
     "execution_count": 5,
     "metadata": {},
     "output_type": "execute_result"
    }
   ],
   "source": [
    "df_by_item_state = df_master.groupby(['item_code','item','unit','state']).price.agg(['max','min','mean'])\n",
    "\n",
    "df_by_item_state.query('item_code ==1')\n",
    "\n"
   ]
  },
  {
   "cell_type": "markdown",
   "metadata": {},
   "source": [
    "There are 51 data points in main df for July23-Johor-Ayam standard 1kg.By comparison , the excel downloaded from DOSM 'JADUAL' only shows 9 data points. DOSM dashboard also indicates mean 9.30, min 7.59, max 12"
   ]
  },
  {
   "cell_type": "code",
   "execution_count": 6,
   "metadata": {},
   "outputs": [],
   "source": [
    "df_master.query('state==\"Johor\" and item_code==1')[\"price\"].nunique()\n",
    "x = df_master.query('state==\"Johor\" and item_code==1')\n",
    "#x[x[\"date\"]=='2023-07-12'].to_csv('12july23johorayam.csv')"
   ]
  },
  {
   "cell_type": "code",
   "execution_count": 7,
   "metadata": {},
   "outputs": [
    {
     "data": {
      "text/plain": [
       "9.4"
      ]
     },
     "execution_count": 7,
     "metadata": {},
     "output_type": "execute_result"
    }
   ],
   "source": [
    "x[x[\"date\"]=='2023-07-12'][\"price\"].max()"
   ]
  },
  {
   "cell_type": "markdown",
   "metadata": {},
   "source": [
    "# Malaysia view"
   ]
  },
  {
   "cell_type": "markdown",
   "metadata": {},
   "source": [
    "Regardless of the discrepancies between this data and DOSM, we assume this data is correct because at least minyak masak 5kg alif tally. We think that DOSM disrepancies maybe due to averaging methods by DOSM (average day-by borong, runcit, fama-then by month, etc)\n",
    "\n",
    "Data count for each item is included to show 'significance level' of the item. If it's uninmportant, DOSM wouldn't record it much."
   ]
  },
  {
   "cell_type": "code",
   "execution_count": 8,
   "metadata": {},
   "outputs": [
    {
     "data": {
      "text/html": [
       "<div>\n",
       "<style scoped>\n",
       "    .dataframe tbody tr th:only-of-type {\n",
       "        vertical-align: middle;\n",
       "    }\n",
       "\n",
       "    .dataframe tbody tr th {\n",
       "        vertical-align: top;\n",
       "    }\n",
       "\n",
       "    .dataframe thead th {\n",
       "        text-align: right;\n",
       "    }\n",
       "</style>\n",
       "<table border=\"1\" class=\"dataframe\">\n",
       "  <thead>\n",
       "    <tr style=\"text-align: right;\">\n",
       "      <th></th>\n",
       "      <th></th>\n",
       "      <th></th>\n",
       "      <th>max</th>\n",
       "      <th>min</th>\n",
       "      <th>mean</th>\n",
       "      <th>count</th>\n",
       "    </tr>\n",
       "    <tr>\n",
       "      <th>item_code</th>\n",
       "      <th>item</th>\n",
       "      <th>unit</th>\n",
       "      <th></th>\n",
       "      <th></th>\n",
       "      <th></th>\n",
       "      <th></th>\n",
       "    </tr>\n",
       "  </thead>\n",
       "  <tbody>\n",
       "    <tr>\n",
       "      <th>1</th>\n",
       "      <th>AYAM BERSIH - STANDARD</th>\n",
       "      <th>1kg</th>\n",
       "      <td>11.4</td>\n",
       "      <td>4.99</td>\n",
       "      <td>9.057822</td>\n",
       "      <td>19876</td>\n",
       "    </tr>\n",
       "    <tr>\n",
       "      <th>2</th>\n",
       "      <th>AYAM BERSIH - SUPER</th>\n",
       "      <th>1kg</th>\n",
       "      <td>12.3</td>\n",
       "      <td>7.99</td>\n",
       "      <td>11.078288</td>\n",
       "      <td>4516</td>\n",
       "    </tr>\n",
       "    <tr>\n",
       "      <th>3</th>\n",
       "      <th>AYAM HIDUP</th>\n",
       "      <th>1kg</th>\n",
       "      <td>10.5</td>\n",
       "      <td>6.40</td>\n",
       "      <td>9.229885</td>\n",
       "      <td>87</td>\n",
       "    </tr>\n",
       "    <tr>\n",
       "      <th>9</th>\n",
       "      <th>DAGING KAMBING BEBIRI IMPORT BERTULANG (MUTTON) (AUSTRALIA - KOTAK)</th>\n",
       "      <th>1kg</th>\n",
       "      <td>59.9</td>\n",
       "      <td>20.00</td>\n",
       "      <td>32.425818</td>\n",
       "      <td>3527</td>\n",
       "    </tr>\n",
       "    <tr>\n",
       "      <th>10</th>\n",
       "      <th>DAGING KAMBING BEBIRI IMPORT BERTULANG (MUTTON) (NEW ZEALAND - KOTAK)</th>\n",
       "      <th>1kg</th>\n",
       "      <td>60.0</td>\n",
       "      <td>26.50</td>\n",
       "      <td>34.362603</td>\n",
       "      <td>242</td>\n",
       "    </tr>\n",
       "  </tbody>\n",
       "</table>\n",
       "</div>"
      ],
      "text/plain": [
       "                                                                    max  \\\n",
       "item_code item                                               unit         \n",
       "1         AYAM BERSIH - STANDARD                             1kg   11.4   \n",
       "2         AYAM BERSIH - SUPER                                1kg   12.3   \n",
       "3         AYAM HIDUP                                         1kg   10.5   \n",
       "9         DAGING KAMBING BEBIRI IMPORT BERTULANG (MUTTON)... 1kg   59.9   \n",
       "10        DAGING KAMBING BEBIRI IMPORT BERTULANG (MUTTON)... 1kg   60.0   \n",
       "\n",
       "                                                                     min  \\\n",
       "item_code item                                               unit          \n",
       "1         AYAM BERSIH - STANDARD                             1kg    4.99   \n",
       "2         AYAM BERSIH - SUPER                                1kg    7.99   \n",
       "3         AYAM HIDUP                                         1kg    6.40   \n",
       "9         DAGING KAMBING BEBIRI IMPORT BERTULANG (MUTTON)... 1kg   20.00   \n",
       "10        DAGING KAMBING BEBIRI IMPORT BERTULANG (MUTTON)... 1kg   26.50   \n",
       "\n",
       "                                                                        mean  \\\n",
       "item_code item                                               unit              \n",
       "1         AYAM BERSIH - STANDARD                             1kg    9.057822   \n",
       "2         AYAM BERSIH - SUPER                                1kg   11.078288   \n",
       "3         AYAM HIDUP                                         1kg    9.229885   \n",
       "9         DAGING KAMBING BEBIRI IMPORT BERTULANG (MUTTON)... 1kg   32.425818   \n",
       "10        DAGING KAMBING BEBIRI IMPORT BERTULANG (MUTTON)... 1kg   34.362603   \n",
       "\n",
       "                                                                   count  \n",
       "item_code item                                               unit         \n",
       "1         AYAM BERSIH - STANDARD                             1kg   19876  \n",
       "2         AYAM BERSIH - SUPER                                1kg    4516  \n",
       "3         AYAM HIDUP                                         1kg      87  \n",
       "9         DAGING KAMBING BEBIRI IMPORT BERTULANG (MUTTON)... 1kg    3527  \n",
       "10        DAGING KAMBING BEBIRI IMPORT BERTULANG (MUTTON)... 1kg     242  "
      ]
     },
     "execution_count": 8,
     "metadata": {},
     "output_type": "execute_result"
    }
   ],
   "source": [
    "#df_msia = df.groupby(['item_code']).price.agg(['max','min','mean'])\n",
    "df_msia = df_master.groupby(['item_code','item','unit']).price.agg(['max','min','mean','count'])\n",
    "\n",
    "\n",
    "df_msia.head()"
   ]
  },
  {
   "cell_type": "code",
   "execution_count": 9,
   "metadata": {},
   "outputs": [
    {
     "data": {
      "text/plain": [
       "1940172"
      ]
     },
     "execution_count": 9,
     "metadata": {},
     "output_type": "execute_result"
    },
    {
     "data": {
      "image/png": "[encoded data removed]",
      "text/plain": [
       "<Figure size 640x480 with 1 Axes>"
      ]
     },
     "metadata": {},
     "output_type": "display_data"
    }
   ],
   "source": [
    "df_msia = df_msia.sort_values('count',ascending=False)\n",
    "#df_msia.hist('count')\n",
    "df_msia[df_msia['count']>6000].hist('count')\n",
    "df_msia[df_msia['count']>6000]['count'].sum()\n",
    "\n",
    "\n",
    "#df_msia[df_msia['count']>100 & df_msia['count']<1000 ]\n",
    "#df2 = pd.DataFrame({'lab':['A', 'B', 'C'], 'val':[10, 30, 20]})\n",
    "#df2.plot.bar(x='lab',y='val')\n",
    "#df2.head()\n"
   ]
  },
  {
   "cell_type": "code",
   "execution_count": null,
   "metadata": {},
   "outputs": [],
   "source": []
  },
  {
   "cell_type": "markdown",
   "metadata": {},
   "source": [
    "# East vs Semenanjung Malaysia"
   ]
  },
  {
   "cell_type": "markdown",
   "metadata": {},
   "source": [
    "East Msia-Sbah,Swak,Labuan"
   ]
  },
  {
   "cell_type": "code",
   "execution_count": 10,
   "metadata": {},
   "outputs": [
    {
     "name": "stdout",
     "output_type": "stream",
     "text": [
      "<class 'pandas.core.frame.DataFrame'>\n",
      "MultiIndex: 475 entries, (1, 'AYAM BERSIH - STANDARD') to (2020, 'YOGURT LACTEL (FAT FREE) (STRAWBERRY)')\n",
      "Data columns (total 3 columns):\n",
      " #   Column     Non-Null Count  Dtype  \n",
      "---  ------     --------------  -----  \n",
      " 0   max_east   475 non-null    float64\n",
      " 1   min_east   475 non-null    float64\n",
      " 2   mean_east  475 non-null    float64\n",
      "dtypes: float64(3)\n",
      "memory usage: 20.2+ KB\n"
     ]
    }
   ],
   "source": [
    "df_east = df_master.query('state==[\"Sarawak\",\"Sabah\",\"W.P. Labuan\"]')\n",
    "#df_east.to_csv('eastmsia.csv')\n",
    "df_east_summary = df_east.groupby(['item_code','item']).price.agg(['max','min','mean'])\n",
    "\n",
    "\n",
    "df_east_summary = df_east_summary.rename(columns={'max':'max_east','min':'min_east','mean':'mean_east'})\n",
    "df_east_summary.info()"
   ]
  },
  {
   "cell_type": "code",
   "execution_count": 11,
   "metadata": {},
   "outputs": [
    {
     "name": "stdout",
     "output_type": "stream",
     "text": [
      "<class 'pandas.core.frame.DataFrame'>\n",
      "MultiIndex: 475 entries, (1, 'AYAM BERSIH - STANDARD') to (2020, 'YOGURT LACTEL (FAT FREE) (STRAWBERRY)')\n",
      "Data columns (total 3 columns):\n",
      " #   Column     Non-Null Count  Dtype  \n",
      "---  ------     --------------  -----  \n",
      " 0   max_east   475 non-null    float64\n",
      " 1   min_east   475 non-null    float64\n",
      " 2   mean_east  475 non-null    float64\n",
      "dtypes: float64(3)\n",
      "memory usage: 20.2+ KB\n"
     ]
    }
   ],
   "source": [
    "df_east_summary.info()"
   ]
  },
  {
   "cell_type": "markdown",
   "metadata": {},
   "source": [
    "Semenanjung"
   ]
  },
  {
   "cell_type": "code",
   "execution_count": 12,
   "metadata": {},
   "outputs": [],
   "source": [
    "df_semenanjung = df_master.query('state!=[\"Sarawak\",\"Sabah\",\"W.P. Labuan\"]')\n",
    "#df_semenanjung.to_csv('semenanjungmsia.csv')\n",
    "df_semenanjung_summary = df_semenanjung.groupby(['item_code','item']).price.agg(['max','min','mean'])\n",
    "#df_semenanjung.to_csv('semenanjungmsia.csv')\n"
   ]
  },
  {
   "cell_type": "code",
   "execution_count": 13,
   "metadata": {},
   "outputs": [
    {
     "name": "stdout",
     "output_type": "stream",
     "text": [
      "<class 'pandas.core.frame.DataFrame'>\n",
      "MultiIndex: 477 entries, (1, 'AYAM BERSIH - STANDARD') to (2020, 'YOGURT LACTEL (FAT FREE) (STRAWBERRY)')\n",
      "Data columns (total 3 columns):\n",
      " #   Column  Non-Null Count  Dtype  \n",
      "---  ------  --------------  -----  \n",
      " 0   max     477 non-null    float64\n",
      " 1   min     477 non-null    float64\n",
      " 2   mean    477 non-null    float64\n",
      "dtypes: float64(3)\n",
      "memory usage: 20.3+ KB\n"
     ]
    }
   ],
   "source": [
    "df_semenanjung_summary.info()"
   ]
  },
  {
   "cell_type": "markdown",
   "metadata": {},
   "source": [
    "Semenanjung Malaysia summary of prices (max,min,mean)"
   ]
  },
  {
   "cell_type": "code",
   "execution_count": 14,
   "metadata": {},
   "outputs": [
    {
     "data": {
      "text/html": [
       "<div>\n",
       "<style scoped>\n",
       "    .dataframe tbody tr th:only-of-type {\n",
       "        vertical-align: middle;\n",
       "    }\n",
       "\n",
       "    .dataframe tbody tr th {\n",
       "        vertical-align: top;\n",
       "    }\n",
       "\n",
       "    .dataframe thead th {\n",
       "        text-align: right;\n",
       "    }\n",
       "</style>\n",
       "<table border=\"1\" class=\"dataframe\">\n",
       "  <thead>\n",
       "    <tr style=\"text-align: right;\">\n",
       "      <th></th>\n",
       "      <th></th>\n",
       "      <th>max</th>\n",
       "      <th>min</th>\n",
       "      <th>mean</th>\n",
       "    </tr>\n",
       "    <tr>\n",
       "      <th>item_code</th>\n",
       "      <th>item</th>\n",
       "      <th></th>\n",
       "      <th></th>\n",
       "      <th></th>\n",
       "    </tr>\n",
       "  </thead>\n",
       "  <tbody>\n",
       "    <tr>\n",
       "      <th>1</th>\n",
       "      <th>AYAM BERSIH - STANDARD</th>\n",
       "      <td>9.90</td>\n",
       "      <td>4.99</td>\n",
       "      <td>9.012636</td>\n",
       "    </tr>\n",
       "    <tr>\n",
       "      <th>2</th>\n",
       "      <th>AYAM BERSIH - SUPER</th>\n",
       "      <td>10.89</td>\n",
       "      <td>8.50</td>\n",
       "      <td>10.326075</td>\n",
       "    </tr>\n",
       "    <tr>\n",
       "      <th>3</th>\n",
       "      <th>AYAM HIDUP</th>\n",
       "      <td>10.50</td>\n",
       "      <td>6.40</td>\n",
       "      <td>9.229885</td>\n",
       "    </tr>\n",
       "    <tr>\n",
       "      <th>9</th>\n",
       "      <th>DAGING KAMBING BEBIRI IMPORT BERTULANG (MUTTON) (AUSTRALIA - KOTAK)</th>\n",
       "      <td>59.90</td>\n",
       "      <td>20.00</td>\n",
       "      <td>31.788445</td>\n",
       "    </tr>\n",
       "    <tr>\n",
       "      <th>10</th>\n",
       "      <th>DAGING KAMBING BEBIRI IMPORT BERTULANG (MUTTON) (NEW ZEALAND - KOTAK)</th>\n",
       "      <td>60.00</td>\n",
       "      <td>26.50</td>\n",
       "      <td>34.352059</td>\n",
       "    </tr>\n",
       "  </tbody>\n",
       "</table>\n",
       "</div>"
      ],
      "text/plain": [
       "                                                                max    min  \\\n",
       "item_code item                                                               \n",
       "1         AYAM BERSIH - STANDARD                               9.90   4.99   \n",
       "2         AYAM BERSIH - SUPER                                 10.89   8.50   \n",
       "3         AYAM HIDUP                                          10.50   6.40   \n",
       "9         DAGING KAMBING BEBIRI IMPORT BERTULANG (MUTTON)...  59.90  20.00   \n",
       "10        DAGING KAMBING BEBIRI IMPORT BERTULANG (MUTTON)...  60.00  26.50   \n",
       "\n",
       "                                                                   mean  \n",
       "item_code item                                                           \n",
       "1         AYAM BERSIH - STANDARD                               9.012636  \n",
       "2         AYAM BERSIH - SUPER                                 10.326075  \n",
       "3         AYAM HIDUP                                           9.229885  \n",
       "9         DAGING KAMBING BEBIRI IMPORT BERTULANG (MUTTON)...  31.788445  \n",
       "10        DAGING KAMBING BEBIRI IMPORT BERTULANG (MUTTON)...  34.352059  "
      ]
     },
     "execution_count": 14,
     "metadata": {},
     "output_type": "execute_result"
    }
   ],
   "source": [
    "df_semenanjung_summary.head()"
   ]
  },
  {
   "cell_type": "markdown",
   "metadata": {},
   "source": [
    "Merge East Msia and Semenanjung.East Msia has 475 entries, Semenanjung has 477. Intersection has 451 entries."
   ]
  },
  {
   "cell_type": "code",
   "execution_count": 15,
   "metadata": {},
   "outputs": [
    {
     "name": "stdout",
     "output_type": "stream",
     "text": [
      "<class 'pandas.core.frame.DataFrame'>\n",
      "MultiIndex: 451 entries, (1, 'AYAM BERSIH - STANDARD') to (2020, 'YOGURT LACTEL (FAT FREE) (STRAWBERRY)')\n",
      "Data columns (total 6 columns):\n",
      " #   Column     Non-Null Count  Dtype  \n",
      "---  ------     --------------  -----  \n",
      " 0   max        451 non-null    float64\n",
      " 1   min        451 non-null    float64\n",
      " 2   mean       451 non-null    float64\n",
      " 3   max_east   451 non-null    float64\n",
      " 4   min_east   451 non-null    float64\n",
      " 5   mean_east  451 non-null    float64\n",
      "dtypes: float64(6)\n",
      "memory usage: 62.1+ KB\n"
     ]
    },
    {
     "data": {
      "text/html": [
       "<div>\n",
       "<style scoped>\n",
       "    .dataframe tbody tr th:only-of-type {\n",
       "        vertical-align: middle;\n",
       "    }\n",
       "\n",
       "    .dataframe tbody tr th {\n",
       "        vertical-align: top;\n",
       "    }\n",
       "\n",
       "    .dataframe thead th {\n",
       "        text-align: right;\n",
       "    }\n",
       "</style>\n",
       "<table border=\"1\" class=\"dataframe\">\n",
       "  <thead>\n",
       "    <tr style=\"text-align: right;\">\n",
       "      <th></th>\n",
       "      <th></th>\n",
       "      <th>max</th>\n",
       "      <th>min</th>\n",
       "      <th>mean</th>\n",
       "      <th>max_east</th>\n",
       "      <th>min_east</th>\n",
       "      <th>mean_east</th>\n",
       "    </tr>\n",
       "    <tr>\n",
       "      <th>item_code</th>\n",
       "      <th>item</th>\n",
       "      <th></th>\n",
       "      <th></th>\n",
       "      <th></th>\n",
       "      <th></th>\n",
       "      <th></th>\n",
       "      <th></th>\n",
       "    </tr>\n",
       "  </thead>\n",
       "  <tbody>\n",
       "    <tr>\n",
       "      <th>1</th>\n",
       "      <th>AYAM BERSIH - STANDARD</th>\n",
       "      <td>9.90</td>\n",
       "      <td>4.99</td>\n",
       "      <td>9.012636</td>\n",
       "      <td>11.40</td>\n",
       "      <td>9.79</td>\n",
       "      <td>10.766777</td>\n",
       "    </tr>\n",
       "    <tr>\n",
       "      <th>2</th>\n",
       "      <th>AYAM BERSIH - SUPER</th>\n",
       "      <td>10.89</td>\n",
       "      <td>8.50</td>\n",
       "      <td>10.326075</td>\n",
       "      <td>12.30</td>\n",
       "      <td>7.99</td>\n",
       "      <td>11.401754</td>\n",
       "    </tr>\n",
       "    <tr>\n",
       "      <th>9</th>\n",
       "      <th>DAGING KAMBING BEBIRI IMPORT BERTULANG (MUTTON) (AUSTRALIA - KOTAK)</th>\n",
       "      <td>59.90</td>\n",
       "      <td>20.00</td>\n",
       "      <td>31.788445</td>\n",
       "      <td>48.90</td>\n",
       "      <td>23.90</td>\n",
       "      <td>35.528902</td>\n",
       "    </tr>\n",
       "    <tr>\n",
       "      <th>10</th>\n",
       "      <th>DAGING KAMBING BEBIRI IMPORT BERTULANG (MUTTON) (NEW ZEALAND - KOTAK)</th>\n",
       "      <td>60.00</td>\n",
       "      <td>26.50</td>\n",
       "      <td>34.352059</td>\n",
       "      <td>34.99</td>\n",
       "      <td>34.99</td>\n",
       "      <td>34.990000</td>\n",
       "    </tr>\n",
       "    <tr>\n",
       "      <th>11</th>\n",
       "      <th>DAGING KAMBING BEBIRI IMPORT TANPA TULANG (MUTTON) (TIDAK TERMASUK PAHA - AUSTRALIA)</th>\n",
       "      <td>60.00</td>\n",
       "      <td>25.00</td>\n",
       "      <td>47.924184</td>\n",
       "      <td>32.99</td>\n",
       "      <td>32.99</td>\n",
       "      <td>32.990000</td>\n",
       "    </tr>\n",
       "  </tbody>\n",
       "</table>\n",
       "</div>"
      ],
      "text/plain": [
       "                                                                max    min  \\\n",
       "item_code item                                                               \n",
       "1         AYAM BERSIH - STANDARD                               9.90   4.99   \n",
       "2         AYAM BERSIH - SUPER                                 10.89   8.50   \n",
       "9         DAGING KAMBING BEBIRI IMPORT BERTULANG (MUTTON)...  59.90  20.00   \n",
       "10        DAGING KAMBING BEBIRI IMPORT BERTULANG (MUTTON)...  60.00  26.50   \n",
       "11        DAGING KAMBING BEBIRI IMPORT TANPA TULANG (MUTT...  60.00  25.00   \n",
       "\n",
       "                                                                   mean  \\\n",
       "item_code item                                                            \n",
       "1         AYAM BERSIH - STANDARD                               9.012636   \n",
       "2         AYAM BERSIH - SUPER                                 10.326075   \n",
       "9         DAGING KAMBING BEBIRI IMPORT BERTULANG (MUTTON)...  31.788445   \n",
       "10        DAGING KAMBING BEBIRI IMPORT BERTULANG (MUTTON)...  34.352059   \n",
       "11        DAGING KAMBING BEBIRI IMPORT TANPA TULANG (MUTT...  47.924184   \n",
       "\n",
       "                                                              max_east  \\\n",
       "item_code item                                                           \n",
       "1         AYAM BERSIH - STANDARD                                 11.40   \n",
       "2         AYAM BERSIH - SUPER                                    12.30   \n",
       "9         DAGING KAMBING BEBIRI IMPORT BERTULANG (MUTTON)...     48.90   \n",
       "10        DAGING KAMBING BEBIRI IMPORT BERTULANG (MUTTON)...     34.99   \n",
       "11        DAGING KAMBING BEBIRI IMPORT TANPA TULANG (MUTT...     32.99   \n",
       "\n",
       "                                                              min_east  \\\n",
       "item_code item                                                           \n",
       "1         AYAM BERSIH - STANDARD                                  9.79   \n",
       "2         AYAM BERSIH - SUPER                                     7.99   \n",
       "9         DAGING KAMBING BEBIRI IMPORT BERTULANG (MUTTON)...     23.90   \n",
       "10        DAGING KAMBING BEBIRI IMPORT BERTULANG (MUTTON)...     34.99   \n",
       "11        DAGING KAMBING BEBIRI IMPORT TANPA TULANG (MUTT...     32.99   \n",
       "\n",
       "                                                              mean_east  \n",
       "item_code item                                                           \n",
       "1         AYAM BERSIH - STANDARD                              10.766777  \n",
       "2         AYAM BERSIH - SUPER                                 11.401754  \n",
       "9         DAGING KAMBING BEBIRI IMPORT BERTULANG (MUTTON)...  35.528902  \n",
       "10        DAGING KAMBING BEBIRI IMPORT BERTULANG (MUTTON)...  34.990000  \n",
       "11        DAGING KAMBING BEBIRI IMPORT TANPA TULANG (MUTT...  32.990000  "
      ]
     },
     "execution_count": 15,
     "metadata": {},
     "output_type": "execute_result"
    }
   ],
   "source": [
    "df_east_semenanjung = pd.merge(df_semenanjung_summary,df_east_summary,how='inner',on=['item_code','item'])\n",
    "df_east_semenanjung.info()\n",
    "df_east_semenanjung.head()"
   ]
  },
  {
   "cell_type": "markdown",
   "metadata": {},
   "source": [
    "Compare East Msia vs Semenanjung. "
   ]
  },
  {
   "cell_type": "code",
   "execution_count": 16,
   "metadata": {},
   "outputs": [
    {
     "data": {
      "text/plain": [
       "<Axes: >"
      ]
     },
     "execution_count": 16,
     "metadata": {},
     "output_type": "execute_result"
    },
    {
     "data": {
      "image/png": "[encoded data removed]",
      "text/plain": [
       "<Figure size 640x480 with 1 Axes>"
      ]
     },
     "metadata": {},
     "output_type": "display_data"
    }
   ],
   "source": [
    "df_east_semenanjung.sum().plot.bar()"
   ]
  },
  {
   "cell_type": "code",
   "execution_count": 20,
   "metadata": {},
   "outputs": [
    {
     "data": {
      "text/plain": [
       "max         10589.280000\n",
       "min          4358.550000\n",
       "mean         6964.814581\n",
       "max_east     9270.570000\n",
       "min_east     5091.460000\n",
       "dtype: float64"
      ]
     },
     "execution_count": 20,
     "metadata": {},
     "output_type": "execute_result"
    }
   ],
   "source": [
    "x = df_east_semenanjung.sum()\n",
    "x.head()\n",
    "#x['max']"
   ]
  },
  {
   "cell_type": "code",
   "execution_count": 25,
   "metadata": {},
   "outputs": [
    {
     "data": {
      "text/plain": [
       "<Axes: >"
      ]
     },
     "execution_count": 25,
     "metadata": {},
     "output_type": "execute_result"
    },
    {
     "data": {
      "image/png": "[encoded data removed]",
      "text/plain": [
       "<Figure size 640x480 with 1 Axes>"
      ]
     },
     "metadata": {},
     "output_type": "display_data"
    }
   ],
   "source": [
    "west = [x['max'],x['min'],x['mean']]\n",
    "east = [x['max_east'],x['min_east'],x['mean_east']]\n",
    "\n",
    "index = ['max','min','mean']\n",
    "\n",
    "df = pd.DataFrame({'west':west,'east':east},index = index)\n",
    "\n",
    "\n",
    "df.plot.bar()"
   ]
  }
 ],
 "metadata": {
  "kernelspec": {
   "display_name": ".mlenv",
   "language": "python",
   "name": "python3"
  },
  "language_info": {
   "codemirror_mode": {
    "name": "ipython",
    "version": 3
   },
   "file_extension": ".py",
   "mimetype": "text/x-python",
   "name": "python",
   "nbconvert_exporter": "python",
   "pygments_lexer": "ipython3",
   "version": "3.11.4"
  },
  "orig_nbformat": 4
 },
 "nbformat": 4,
 "nbformat_minor": 2
}
