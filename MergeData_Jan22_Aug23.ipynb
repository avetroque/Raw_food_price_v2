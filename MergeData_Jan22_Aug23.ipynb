{
 "cells": [
  {
   "cell_type": "markdown",
   "metadata": {},
   "source": [
    "# Get a list of all dataframes"
   ]
  },
  {
   "cell_type": "code",
   "execution_count": 1,
   "metadata": {},
   "outputs": [
    {
     "name": "stdout",
     "output_type": "stream",
     "text": [
      "Number of dataframes in the list: 20\n"
     ]
    }
   ],
   "source": [
    "import numpy as np\n",
    "import pandas as pd\n",
    "from datetime import datetime\n",
    "\n",
    "\n",
    "#Get all months from Jan 22 until today\n",
    "datelist = pd.date_range(start ='01/01/2022' , end = '31/08/2023',freq=\"M\").tolist()\n",
    "datelist = [x.strftime('%Y-%m') for x in datelist]\n",
    "#print(datelist)\n",
    "\n",
    "def get_all_dataframes(datelist):\n",
    "    \n",
    "    df_list=[]\n",
    "\n",
    "    for month_d in datelist:\n",
    "\n",
    "        month_parq = month_d +'.parquet'\n",
    "        URL_DATA = 'https://storage.googleapis.com/dosm-public-pricecatcher/pricecatcher_{}'.format(month_parq)\n",
    "        \n",
    "        df = pd.read_parquet(URL_DATA)\n",
    "        if 'date' in df.columns: df['date'] = pd.to_datetime(df['date'])\n",
    "        #df.head()\n",
    "        df_list.append(df)\n",
    "    \n",
    "    return df_list\n",
    "\n",
    "#This stores all dataframes since Jan 22\n",
    "df_all_list = get_all_dataframes(datelist)\n",
    "print(f'Number of dataframes in the list: {len(df_all_list)}')\n"
   ]
  },
  {
   "cell_type": "markdown",
   "metadata": {},
   "source": [
    "# Intersections"
   ]
  },
  {
   "cell_type": "code",
   "execution_count": 2,
   "metadata": {},
   "outputs": [
    {
     "name": "stdout",
     "output_type": "stream",
     "text": [
      "initial len list2 724\n",
      "724\n",
      "694\n",
      "693\n",
      "502\n",
      "502\n",
      "502\n",
      "502\n",
      "501\n",
      "501\n",
      "501\n",
      "492\n",
      "491\n",
      "491\n",
      "490\n",
      "490\n",
      "490\n",
      "490\n",
      "490\n",
      "490\n",
      "490\n"
     ]
    }
   ],
   "source": [
    "\n",
    "df_items_unique = pd.DataFrame(columns=datelist)\n",
    "i=0\n",
    "\n",
    "list2_df = df_all_list[0]\n",
    "\n",
    "list2 = list2_df[\"item_code\"].unique()\n",
    "print(f'initial len list2 {len(list2)}')\n",
    "for x_df in df_all_list:\n",
    "    list_of_items = x_df[\"item_code\"].unique() #get the list of items for that month\n",
    "\n",
    "\n",
    "    #Get Intersections of ALL lists\n",
    "    list2 = list(set(list_of_items) & set(list2))\n",
    "    print(len(list2))\n",
    "\n",
    "    #Putting in dataframes-we dont need this, just for recording purposes  \n",
    "    #new_col = pd.DataFrame(list_of_items,columns=[\"item_code\"])\n",
    "    #df_items_unique[datelist[i]]=new_col\n",
    "    #i+=1\n",
    "\n",
    "#df_items_unique.head()\n",
    "\n",
    "\n",
    "#Actually, come to think of it, we don't need to find the intersections. We just need to select the items in the current month\n",
    "# and force other months to follow "
   ]
  },
  {
   "cell_type": "markdown",
   "metadata": {},
   "source": [
    "## df_new is a list of all items(by item_code) at the intersection"
   ]
  },
  {
   "cell_type": "code",
   "execution_count": 3,
   "metadata": {},
   "outputs": [
    {
     "name": "stdout",
     "output_type": "stream",
     "text": [
      "490\n",
      "<class 'numpy.int64'>\n",
      "<class 'pandas.core.frame.DataFrame'>\n",
      "RangeIndex: 490 entries, 0 to 489\n",
      "Data columns (total 1 columns):\n",
      " #   Column     Non-Null Count  Dtype\n",
      "---  ------     --------------  -----\n",
      " 0   item_code  490 non-null    int64\n",
      "dtypes: int64(1)\n",
      "memory usage: 4.0 KB\n"
     ]
    },
    {
     "data": {
      "text/html": [
       "<div>\n",
       "<style scoped>\n",
       "    .dataframe tbody tr th:only-of-type {\n",
       "        vertical-align: middle;\n",
       "    }\n",
       "\n",
       "    .dataframe tbody tr th {\n",
       "        vertical-align: top;\n",
       "    }\n",
       "\n",
       "    .dataframe thead th {\n",
       "        text-align: right;\n",
       "    }\n",
       "</style>\n",
       "<table border=\"1\" class=\"dataframe\">\n",
       "  <thead>\n",
       "    <tr style=\"text-align: right;\">\n",
       "      <th></th>\n",
       "      <th>item_code</th>\n",
       "    </tr>\n",
       "  </thead>\n",
       "  <tbody>\n",
       "    <tr>\n",
       "      <th>0</th>\n",
       "      <td>1</td>\n",
       "    </tr>\n",
       "    <tr>\n",
       "      <th>1</th>\n",
       "      <td>2</td>\n",
       "    </tr>\n",
       "    <tr>\n",
       "      <th>2</th>\n",
       "      <td>3</td>\n",
       "    </tr>\n",
       "    <tr>\n",
       "      <th>3</th>\n",
       "      <td>9</td>\n",
       "    </tr>\n",
       "    <tr>\n",
       "      <th>4</th>\n",
       "      <td>10</td>\n",
       "    </tr>\n",
       "  </tbody>\n",
       "</table>\n",
       "</div>"
      ],
      "text/plain": [
       "   item_code\n",
       "0          1\n",
       "1          2\n",
       "2          3\n",
       "3          9\n",
       "4         10"
      ]
     },
     "execution_count": 3,
     "metadata": {},
     "output_type": "execute_result"
    }
   ],
   "source": [
    "list2\n",
    "list2 = [x.astype(np.int64) for x in list2]\n",
    "print(len(list2))\n",
    "print(type(list2[0]))\n",
    "\n",
    "df_new = pd.DataFrame(list2,columns=['item_code'])\n",
    "df_new.info()\n",
    "df_new.head()\n",
    "\n",
    "\n",
    "#df_new is a list of all items at the intersection"
   ]
  },
  {
   "cell_type": "code",
   "execution_count": 4,
   "metadata": {},
   "outputs": [
    {
     "name": "stdout",
     "output_type": "stream",
     "text": [
      "<class 'pandas.core.frame.DataFrame'>\n",
      "RangeIndex: 757 entries, 0 to 756\n",
      "Data columns (total 5 columns):\n",
      " #   Column         Non-Null Count  Dtype \n",
      "---  ------         --------------  ----- \n",
      " 0   item_code      757 non-null    int64 \n",
      " 1   item           756 non-null    object\n",
      " 2   unit           756 non-null    object\n",
      " 3   item_group     756 non-null    object\n",
      " 4   item_category  756 non-null    object\n",
      "dtypes: int64(1), object(4)\n",
      "memory usage: 29.7+ KB\n"
     ]
    },
    {
     "data": {
      "text/html": [
       "<div>\n",
       "<style scoped>\n",
       "    .dataframe tbody tr th:only-of-type {\n",
       "        vertical-align: middle;\n",
       "    }\n",
       "\n",
       "    .dataframe tbody tr th {\n",
       "        vertical-align: top;\n",
       "    }\n",
       "\n",
       "    .dataframe thead th {\n",
       "        text-align: right;\n",
       "    }\n",
       "</style>\n",
       "<table border=\"1\" class=\"dataframe\">\n",
       "  <thead>\n",
       "    <tr style=\"text-align: right;\">\n",
       "      <th></th>\n",
       "      <th>item_code</th>\n",
       "      <th>item</th>\n",
       "      <th>unit</th>\n",
       "      <th>item_group</th>\n",
       "      <th>item_category</th>\n",
       "    </tr>\n",
       "  </thead>\n",
       "  <tbody>\n",
       "    <tr>\n",
       "      <th>0</th>\n",
       "      <td>-1</td>\n",
       "      <td>None</td>\n",
       "      <td>None</td>\n",
       "      <td>None</td>\n",
       "      <td>None</td>\n",
       "    </tr>\n",
       "    <tr>\n",
       "      <th>1</th>\n",
       "      <td>1</td>\n",
       "      <td>AYAM BERSIH - STANDARD</td>\n",
       "      <td>1kg</td>\n",
       "      <td>BARANGAN SEGAR</td>\n",
       "      <td>AYAM</td>\n",
       "    </tr>\n",
       "    <tr>\n",
       "      <th>2</th>\n",
       "      <td>2</td>\n",
       "      <td>AYAM BERSIH - SUPER</td>\n",
       "      <td>1kg</td>\n",
       "      <td>BARANGAN SEGAR</td>\n",
       "      <td>AYAM</td>\n",
       "    </tr>\n",
       "    <tr>\n",
       "      <th>3</th>\n",
       "      <td>3</td>\n",
       "      <td>AYAM HIDUP</td>\n",
       "      <td>1kg</td>\n",
       "      <td>BARANGAN SEGAR</td>\n",
       "      <td>AYAM</td>\n",
       "    </tr>\n",
       "    <tr>\n",
       "      <th>4</th>\n",
       "      <td>9</td>\n",
       "      <td>DAGING KAMBING BEBIRI IMPORT BERTULANG (MUTTON...</td>\n",
       "      <td>1kg</td>\n",
       "      <td>BARANGAN SEGAR</td>\n",
       "      <td>DAGING</td>\n",
       "    </tr>\n",
       "  </tbody>\n",
       "</table>\n",
       "</div>"
      ],
      "text/plain": [
       "   item_code                                               item  unit  \\\n",
       "0         -1                                               None  None   \n",
       "1          1                             AYAM BERSIH - STANDARD   1kg   \n",
       "2          2                                AYAM BERSIH - SUPER   1kg   \n",
       "3          3                                         AYAM HIDUP   1kg   \n",
       "4          9  DAGING KAMBING BEBIRI IMPORT BERTULANG (MUTTON...   1kg   \n",
       "\n",
       "       item_group item_category  \n",
       "0            None          None  \n",
       "1  BARANGAN SEGAR          AYAM  \n",
       "2  BARANGAN SEGAR          AYAM  \n",
       "3  BARANGAN SEGAR          AYAM  \n",
       "4  BARANGAN SEGAR        DAGING  "
      ]
     },
     "execution_count": 4,
     "metadata": {},
     "output_type": "execute_result"
    }
   ],
   "source": [
    "URL_DATA = 'https://storage.googleapis.com/dosm-public-pricecatcher/lookup_item.parquet'\n",
    "df_item_code = pd.read_parquet(URL_DATA)\n",
    "if 'date' in df_item_code.columns: df_item_code['date'] = pd.to_datetime(df_item_code['date'])\n",
    "\n",
    "df_item_code.info()\n",
    "df_item_code.head()"
   ]
  },
  {
   "cell_type": "code",
   "execution_count": 5,
   "metadata": {},
   "outputs": [
    {
     "name": "stdout",
     "output_type": "stream",
     "text": [
      "<class 'numpy.int64'>\n",
      "1\n"
     ]
    }
   ],
   "source": [
    "x = df_new.iloc[0]['item_code']\n",
    "print(type(x))\n",
    "print(x)"
   ]
  },
  {
   "cell_type": "code",
   "execution_count": 6,
   "metadata": {},
   "outputs": [
    {
     "name": "stdout",
     "output_type": "stream",
     "text": [
      "<class 'numpy.int64'>\n",
      "yesss\n"
     ]
    }
   ],
   "source": [
    "y = df_item_code.iloc[1]['item_code']\n",
    "print(type(y))\n",
    "\n",
    "print('yesss' if x==y else 'noo')"
   ]
  },
  {
   "cell_type": "code",
   "execution_count": 15,
   "metadata": {},
   "outputs": [
    {
     "name": "stdout",
     "output_type": "stream",
     "text": [
      "490\n"
     ]
    },
    {
     "data": {
      "text/plain": [
       "0                               AYAM BERSIH - STANDARD\n",
       "1                                  AYAM BERSIH - SUPER\n",
       "2                                           AYAM HIDUP\n",
       "3    DAGING KAMBING BEBIRI IMPORT BERTULANG (MUTTON...\n",
       "4    DAGING KAMBING BEBIRI IMPORT BERTULANG (MUTTON...\n",
       "Name: item_code, dtype: object"
      ]
     },
     "execution_count": 15,
     "metadata": {},
     "output_type": "execute_result"
    }
   ],
   "source": [
    "\n",
    "tempdf = df_new.copy() #must make a copy . doing tempdf=df7 is just reassigning\n",
    "u = tempdf.pop('item_code').map(df_item_code.set_index('item_code')['item'])\n",
    "#u.name = \"item\"\n",
    "\n",
    "print(u.size)\n",
    "u.head()\n"
   ]
  },
  {
   "cell_type": "code",
   "execution_count": 31,
   "metadata": {},
   "outputs": [
    {
     "name": "stdout",
     "output_type": "stream",
     "text": [
      "490\n"
     ]
    },
    {
     "data": {
      "text/html": [
       "<div>\n",
       "<style scoped>\n",
       "    .dataframe tbody tr th:only-of-type {\n",
       "        vertical-align: middle;\n",
       "    }\n",
       "\n",
       "    .dataframe tbody tr th {\n",
       "        vertical-align: top;\n",
       "    }\n",
       "\n",
       "    .dataframe thead th {\n",
       "        text-align: right;\n",
       "    }\n",
       "</style>\n",
       "<table border=\"1\" class=\"dataframe\">\n",
       "  <thead>\n",
       "    <tr style=\"text-align: right;\">\n",
       "      <th></th>\n",
       "      <th>item_code</th>\n",
       "    </tr>\n",
       "  </thead>\n",
       "  <tbody>\n",
       "    <tr>\n",
       "      <th>485</th>\n",
       "      <td>2003</td>\n",
       "    </tr>\n",
       "    <tr>\n",
       "      <th>486</th>\n",
       "      <td>2004</td>\n",
       "    </tr>\n",
       "    <tr>\n",
       "      <th>487</th>\n",
       "      <td>2008</td>\n",
       "    </tr>\n",
       "    <tr>\n",
       "      <th>488</th>\n",
       "      <td>2009</td>\n",
       "    </tr>\n",
       "    <tr>\n",
       "      <th>489</th>\n",
       "      <td>2010</td>\n",
       "    </tr>\n",
       "  </tbody>\n",
       "</table>\n",
       "</div>"
      ],
      "text/plain": [
       "     item_code\n",
       "485       2003\n",
       "486       2004\n",
       "487       2008\n",
       "488       2009\n",
       "489       2010"
      ]
     },
     "execution_count": 31,
     "metadata": {},
     "output_type": "execute_result"
    }
   ],
   "source": [
    "print(df_new.size)\n",
    "df_new.tail()"
   ]
  },
  {
   "cell_type": "markdown",
   "metadata": {},
   "source": [
    "# This is the list of intsection items from Jan 22 until now using method 1 (intersection)"
   ]
  },
  {
   "cell_type": "code",
   "execution_count": 34,
   "metadata": {},
   "outputs": [
    {
     "name": "stdout",
     "output_type": "stream",
     "text": [
      "490\n"
     ]
    },
    {
     "data": {
      "text/html": [
       "<div>\n",
       "<style scoped>\n",
       "    .dataframe tbody tr th:only-of-type {\n",
       "        vertical-align: middle;\n",
       "    }\n",
       "\n",
       "    .dataframe tbody tr th {\n",
       "        vertical-align: top;\n",
       "    }\n",
       "\n",
       "    .dataframe thead th {\n",
       "        text-align: right;\n",
       "    }\n",
       "</style>\n",
       "<table border=\"1\" class=\"dataframe\">\n",
       "  <thead>\n",
       "    <tr style=\"text-align: right;\">\n",
       "      <th></th>\n",
       "      <th>item_code</th>\n",
       "      <th>item</th>\n",
       "      <th>unit</th>\n",
       "      <th>item_group</th>\n",
       "      <th>item_category</th>\n",
       "    </tr>\n",
       "  </thead>\n",
       "  <tbody>\n",
       "    <tr>\n",
       "      <th>485</th>\n",
       "      <td>2003</td>\n",
       "      <td>BIHUN KERING IMPORT (PELBAGAI JENAMA)</td>\n",
       "      <td>400 g</td>\n",
       "      <td>BARANGAN BERBUNGKUS</td>\n",
       "      <td>BIHUN</td>\n",
       "    </tr>\n",
       "    <tr>\n",
       "      <th>486</th>\n",
       "      <td>2004</td>\n",
       "      <td>BERAS SUPER SPECIAL CAP FAMILI 5%</td>\n",
       "      <td>10 kg</td>\n",
       "      <td>BARANGAN BERBUNGKUS</td>\n",
       "      <td>BERAS</td>\n",
       "    </tr>\n",
       "    <tr>\n",
       "      <th>487</th>\n",
       "      <td>2008</td>\n",
       "      <td>SUSU TEPUNG PENUH KRIM SEGERA NESPRAY</td>\n",
       "      <td>480 g</td>\n",
       "      <td>BARANGAN BERBUNGKUS</td>\n",
       "      <td>KRIMER DAN SUSU TEPUNG</td>\n",
       "    </tr>\n",
       "    <tr>\n",
       "      <th>488</th>\n",
       "      <td>2009</td>\n",
       "      <td>DUTCH LADY 123 (BIASA)</td>\n",
       "      <td>850g</td>\n",
       "      <td>SUSU DAN BARANGAN BAYI</td>\n",
       "      <td>SUSU BAYI</td>\n",
       "    </tr>\n",
       "    <tr>\n",
       "      <th>489</th>\n",
       "      <td>2010</td>\n",
       "      <td>DUTCH LADY 456 (BIASA)</td>\n",
       "      <td>850g</td>\n",
       "      <td>SUSU DAN BARANGAN BAYI</td>\n",
       "      <td>SUSU BAYI</td>\n",
       "    </tr>\n",
       "  </tbody>\n",
       "</table>\n",
       "</div>"
      ],
      "text/plain": [
       "     item_code                                   item   unit  \\\n",
       "485       2003  BIHUN KERING IMPORT (PELBAGAI JENAMA)  400 g   \n",
       "486       2004      BERAS SUPER SPECIAL CAP FAMILI 5%  10 kg   \n",
       "487       2008  SUSU TEPUNG PENUH KRIM SEGERA NESPRAY  480 g   \n",
       "488       2009                 DUTCH LADY 123 (BIASA)   850g   \n",
       "489       2010                 DUTCH LADY 456 (BIASA)   850g   \n",
       "\n",
       "                 item_group           item_category  \n",
       "485     BARANGAN BERBUNGKUS                   BIHUN  \n",
       "486     BARANGAN BERBUNGKUS                   BERAS  \n",
       "487     BARANGAN BERBUNGKUS  KRIMER DAN SUSU TEPUNG  \n",
       "488  SUSU DAN BARANGAN BAYI               SUSU BAYI  \n",
       "489  SUSU DAN BARANGAN BAYI               SUSU BAYI  "
      ]
     },
     "execution_count": 34,
     "metadata": {},
     "output_type": "execute_result"
    }
   ],
   "source": [
    "#df_new2 = pd.concat([df_new,u])\n",
    "#df_new2.head()\n",
    "\n",
    "\n",
    "df_new2 = pd.merge(df_new,df_item_code,how=\"left\",on=\"item_code\")\n",
    "print(len(df_new2.index))\n",
    "df_new2.tail()"
   ]
  },
  {
   "cell_type": "markdown",
   "metadata": {},
   "source": [
    "# Method 2- Just get the list of items from the current month and work backwards"
   ]
  },
  {
   "cell_type": "code",
   "execution_count": null,
   "metadata": {},
   "outputs": [],
   "source": []
  },
  {
   "cell_type": "markdown",
   "metadata": {},
   "source": [
    "# Get the price of all common items"
   ]
  },
  {
   "cell_type": "code",
   "execution_count": null,
   "metadata": {},
   "outputs": [],
   "source": [
    "df_items_unique = pd.DataFrame(columns=datelist)\n",
    "\n",
    "list2_df = df_all_list[0]\n",
    "\n",
    "list2 = list2_df[\"item_code\"].unique()\n",
    "print(f'initial len list2 {len(list2)}')\n",
    "\n",
    "for x_df in df_all_list:\n",
    "\n",
    "\n",
    "\n",
    "    list_of_items = x_df[\"item_code\"].unique() #get the list of items for that month\n",
    "\n",
    "\n",
    "    #Get Intersections of ALL lists\n",
    "    list2 = list(set(list_of_items) & set(list2))\n",
    "    print(len(list2))\n"
   ]
  }
 ],
 "metadata": {
  "kernelspec": {
   "display_name": ".mlenv",
   "language": "python",
   "name": "python3"
  },
  "language_info": {
   "codemirror_mode": {
    "name": "ipython",
    "version": 3
   },
   "file_extension": ".py",
   "mimetype": "text/x-python",
   "name": "python",
   "nbconvert_exporter": "python",
   "pygments_lexer": "ipython3",
   "version": "3.11.4"
  },
  "orig_nbformat": 4
 },
 "nbformat": 4,
 "nbformat_minor": 2
}
